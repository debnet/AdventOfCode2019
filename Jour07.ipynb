{
 "cells": [
  {
   "cell_type": "code",
   "execution_count": 1,
   "metadata": {},
   "outputs": [],
   "source": [
    "intcode = [3,8,1001,8,10,8,105,1,0,0,21,34,55,68,85,106,187,268,349,430,99999,3,9,1001,9,5,9,1002,9,5,9,4,9,99,3,9,1002,9,2,9,1001,9,2,9,1002,9,5,9,1001,9,2,9,4,9,99,3,9,101,3,9,9,102,3,9,9,4,9,99,3,9,1002,9,5,9,101,3,9,9,102,5,9,9,4,9,99,3,9,1002,9,4,9,1001,9,2,9,102,3,9,9,101,3,9,9,4,9,99,3,9,1001,9,2,9,4,9,3,9,101,2,9,9,4,9,3,9,1002,9,2,9,4,9,3,9,1002,9,2,9,4,9,3,9,1001,9,1,9,4,9,3,9,1001,9,2,9,4,9,3,9,1002,9,2,9,4,9,3,9,101,2,9,9,4,9,3,9,1001,9,2,9,4,9,3,9,102,2,9,9,4,9,99,3,9,1002,9,2,9,4,9,3,9,102,2,9,9,4,9,3,9,101,1,9,9,4,9,3,9,1001,9,1,9,4,9,3,9,1001,9,1,9,4,9,3,9,101,1,9,9,4,9,3,9,1001,9,1,9,4,9,3,9,101,2,9,9,4,9,3,9,1001,9,1,9,4,9,3,9,1001,9,1,9,4,9,99,3,9,1001,9,2,9,4,9,3,9,101,2,9,9,4,9,3,9,101,2,9,9,4,9,3,9,1002,9,2,9,4,9,3,9,102,2,9,9,4,9,3,9,1002,9,2,9,4,9,3,9,101,1,9,9,4,9,3,9,1002,9,2,9,4,9,3,9,102,2,9,9,4,9,3,9,1002,9,2,9,4,9,99,3,9,102,2,9,9,4,9,3,9,1001,9,2,9,4,9,3,9,102,2,9,9,4,9,3,9,102,2,9,9,4,9,3,9,101,1,9,9,4,9,3,9,102,2,9,9,4,9,3,9,102,2,9,9,4,9,3,9,102,2,9,9,4,9,3,9,101,1,9,9,4,9,3,9,1002,9,2,9,4,9,99,3,9,102,2,9,9,4,9,3,9,1001,9,1,9,4,9,3,9,102,2,9,9,4,9,3,9,101,1,9,9,4,9,3,9,102,2,9,9,4,9,3,9,102,2,9,9,4,9,3,9,101,2,9,9,4,9,3,9,101,2,9,9,4,9,3,9,1001,9,2,9,4,9,3,9,102,2,9,9,4,9,99]"
   ]
  },
  {
   "cell_type": "code",
   "execution_count": 2,
   "metadata": {},
   "outputs": [],
   "source": [
    "from operator import add, mul\n",
    "\n",
    "def compute_intcode(intcode, input_values=None):\n",
    "    def read():\n",
    "        mode3, mode2, mode1, code1, code2 = map(int, f'{intcode[pointer]:05}')\n",
    "        return code1 * 10 + code2, mode1, mode2, mode3\n",
    "    \n",
    "    def getv(mode, shift):\n",
    "        return intcode[pointer + shift] if mode else intcode[intcode[pointer + shift]]\n",
    "    \n",
    "    def setv(mode, value, shift=3):\n",
    "        intcode[pointer + shift if mode else intcode[pointer + shift]] = value \n",
    "    \n",
    "    results = []\n",
    "    pointer = 0\n",
    "    opcode, mode1, mode2, mode3 = read()\n",
    "    while opcode != 99:\n",
    "        if opcode == 1:\n",
    "            setv(mode3, add(getv(mode1, 1), getv(mode2, 2)))\n",
    "            pointer += 4\n",
    "        elif opcode == 2:\n",
    "            setv(mode3, mul(getv(mode1, 1), getv(mode2, 2)))\n",
    "            pointer += 4\n",
    "        elif opcode == 3:\n",
    "            value = input_values.pop(0)\n",
    "            setv(mode1, value, shift=1)\n",
    "            pointer += 2\n",
    "        elif opcode == 4:\n",
    "            value = getv(mode1, 1)\n",
    "            results.append(value)\n",
    "            if value:\n",
    "                input_value = (yield value)\n",
    "                if input_value is not None:\n",
    "                    input_values.append(input_value)\n",
    "            pointer += 2\n",
    "        elif opcode == 5:\n",
    "            pointer = getv(mode2, 2) if getv(mode1, 1) else pointer + 3\n",
    "        elif opcode == 6:\n",
    "            pointer = getv(mode2, 2) if not getv(mode1, 1) else pointer + 3\n",
    "        elif opcode == 7:\n",
    "            setv(mode3, 1) if getv(mode1, 1) < getv(mode2, 2) else setv(mode3, 0)\n",
    "            pointer += 4\n",
    "        elif opcode == 8:\n",
    "            setv(mode3, 1) if getv(mode1, 1) == getv(mode2, 2) else setv(mode3, 0)\n",
    "            pointer += 4\n",
    "        opcode, mode1, mode2, mode3 = read()\n",
    "    return results[-1]"
   ]
  },
  {
   "cell_type": "code",
   "execution_count": 3,
   "metadata": {},
   "outputs": [],
   "source": [
    "def amplify(intcode, sequence=None, input_value=0):\n",
    "    sequence = sequence or []\n",
    "    if not sequence:\n",
    "        return None\n",
    "    input_sequence = sequence.pop(0)\n",
    "    output_value = next(compute_intcode(intcode[:], input_values=[input_sequence, input_value]))\n",
    "    if sequence:\n",
    "        return amplify(intcode, sequence=sequence, input_value=output_value)\n",
    "    else:\n",
    "        return output_value"
   ]
  },
  {
   "cell_type": "code",
   "execution_count": 4,
   "metadata": {},
   "outputs": [
    {
     "data": {
      "text/plain": [
       "255840"
      ]
     },
     "execution_count": 4,
     "metadata": {},
     "output_type": "execute_result"
    }
   ],
   "source": [
    "from itertools import permutations\n",
    "\n",
    "max_output = 0\n",
    "for sequence in permutations(range(5), 5):\n",
    "    output_value = amplify(intcode[:], sequence=list(sequence))\n",
    "    max_output = max(max_output, output_value)\n",
    "max_output"
   ]
  },
  {
   "cell_type": "code",
   "execution_count": 5,
   "metadata": {},
   "outputs": [],
   "source": [
    "from itertools import cycle\n",
    "\n",
    "def amplify_with_feedback(intcode, sequence=None, input_value=0):\n",
    "    sequence = sequence or []\n",
    "    if not sequence:\n",
    "        return None\n",
    "    amplifiers, outputs = {}, []\n",
    "    for i, seq in enumerate(cycle(sequence)):\n",
    "        current = i % len(sequence)\n",
    "        previous = len(sequence) - 1 if current - 1 < 0 else current - 1\n",
    "        amplifier = amplifiers.setdefault(current, compute_intcode(\n",
    "            intcode[:], input_values=[seq, outputs[-1] if outputs else input_value]))\n",
    "        try:\n",
    "            if i < len(sequence):\n",
    "                output = next(amplifier)\n",
    "            else:\n",
    "                output = amplifier.send(outputs[-1])\n",
    "        except StopIteration:\n",
    "            return outputs[-1]\n",
    "        outputs.append(output)"
   ]
  },
  {
   "cell_type": "code",
   "execution_count": 6,
   "metadata": {},
   "outputs": [
    {
     "data": {
      "text/plain": [
       "84088865"
      ]
     },
     "execution_count": 6,
     "metadata": {},
     "output_type": "execute_result"
    }
   ],
   "source": [
    "max_output = 0\n",
    "for sequence in permutations(range(5,10), 5):\n",
    "    try:\n",
    "        output_value = amplify_with_feedback(intcode, sequence=list(sequence))\n",
    "        max_output = max(max_output, output_value)\n",
    "    except Exception as e:\n",
    "        continue\n",
    "max_output"
   ]
  }
 ],
 "metadata": {
  "kernelspec": {
   "display_name": "Python 3",
   "language": "python",
   "name": "python3"
  },
  "language_info": {
   "codemirror_mode": {
    "name": "ipython",
    "version": 3
   },
   "file_extension": ".py",
   "mimetype": "text/x-python",
   "name": "python",
   "nbconvert_exporter": "python",
   "pygments_lexer": "ipython3",
   "version": "3.7.5"
  }
 },
 "nbformat": 4,
 "nbformat_minor": 2
}
