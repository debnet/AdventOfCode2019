{
 "cells": [
  {
   "cell_type": "code",
   "execution_count": 1,
   "metadata": {},
   "outputs": [],
   "source": [
    "intcode = [109,424,203,1,21102,11,1,0,1106,0,282,21101,18,0,0,1106,0,259,2101,0,1,221,203,1,21102,31,1,0,1106,0,282,21102,1,38,0,1105,1,259,20102,1,23,2,22101,0,1,3,21101,0,1,1,21101,0,57,0,1106,0,303,1202,1,1,222,21001,221,0,3,20102,1,221,2,21102,259,1,1,21101,80,0,0,1105,1,225,21102,1,149,2,21101,0,91,0,1105,1,303,1202,1,1,223,21002,222,1,4,21102,259,1,3,21102,225,1,2,21102,225,1,1,21101,118,0,0,1105,1,225,20102,1,222,3,21101,0,127,2,21102,133,1,0,1105,1,303,21202,1,-1,1,22001,223,1,1,21102,1,148,0,1106,0,259,1201,1,0,223,21001,221,0,4,21002,222,1,3,21102,14,1,2,1001,132,-2,224,1002,224,2,224,1001,224,3,224,1002,132,-1,132,1,224,132,224,21001,224,1,1,21101,195,0,0,106,0,108,20207,1,223,2,20102,1,23,1,21101,0,-1,3,21102,214,1,0,1106,0,303,22101,1,1,1,204,1,99,0,0,0,0,109,5,1202,-4,1,249,22102,1,-3,1,21201,-2,0,2,21201,-1,0,3,21102,1,250,0,1105,1,225,22102,1,1,-4,109,-5,2106,0,0,109,3,22107,0,-2,-1,21202,-1,2,-1,21201,-1,-1,-1,22202,-1,-2,-2,109,-3,2105,1,0,109,3,21207,-2,0,-1,1206,-1,294,104,0,99,21202,-2,1,-2,109,-3,2106,0,0,109,5,22207,-3,-4,-1,1206,-1,346,22201,-4,-3,-4,21202,-3,-1,-1,22201,-4,-1,2,21202,2,-1,-1,22201,-4,-1,1,22101,0,-2,3,21101,343,0,0,1106,0,303,1106,0,415,22207,-2,-3,-1,1206,-1,387,22201,-3,-2,-3,21202,-2,-1,-1,22201,-3,-1,3,21202,3,-1,-1,22201,-3,-1,2,22101,0,-4,1,21102,1,384,0,1106,0,303,1105,1,415,21202,-4,-1,-4,22201,-4,-3,-4,22202,-3,-2,-2,22202,-2,-4,-4,22202,-3,-2,-3,21202,-4,-1,-2,22201,-3,-2,1,22102,1,1,-4,109,-5,2106,0,0]"
   ]
  },
  {
   "cell_type": "code",
   "execution_count": 2,
   "metadata": {},
   "outputs": [],
   "source": [
    "from operator import add, mul\n",
    "\n",
    "def compute_intcode(intcode, inputs=None):\n",
    "    \n",
    "    def read():\n",
    "        mode3, mode2, mode1, code1, code2 = map(int, f'{intcode[pointer]:05}')\n",
    "        return code1 * 10 + code2, mode1, mode2, mode3\n",
    "    \n",
    "    def getv(mode, shift):\n",
    "        if mode == 1:\n",
    "            value = intcode.get(pointer + shift, 0)\n",
    "        elif mode == 2:\n",
    "            value = intcode.get(intcode.get(pointer + shift, 0) + relative_base, 0)\n",
    "        else:\n",
    "            value = intcode.get(intcode.get(pointer + shift, 0), 0)\n",
    "        return value\n",
    "    \n",
    "    def setv(mode, value, shift=3):\n",
    "        if mode == 1:\n",
    "            intcode[pointer + shift] = value\n",
    "        elif mode == 2:\n",
    "            intcode[intcode[pointer + shift] + relative_base] = value\n",
    "        else:\n",
    "            intcode[intcode[pointer + shift]] = value\n",
    "    \n",
    "    coords = tuple(inputs)\n",
    "    inputs = list(inputs or [])\n",
    "    \n",
    "    intcode = {i: val for i, val in enumerate(intcode)}\n",
    "    pointer, relative_base = 0, 0\n",
    "    opcode, mode1, mode2, mode3 = read()\n",
    "    while opcode != 99:\n",
    "        if opcode == 1:\n",
    "            setv(mode3, add(getv(mode1, 1), getv(mode2, 2)))\n",
    "            pointer += 4\n",
    "        elif opcode == 2:\n",
    "            setv(mode3, mul(getv(mode1, 1), getv(mode2, 2)))\n",
    "            pointer += 4\n",
    "        elif opcode == 3:\n",
    "            value = inputs.pop(0)\n",
    "            setv(mode1, value, shift=1)\n",
    "            pointer += 2\n",
    "        elif opcode == 4:\n",
    "            value = getv(mode1, 1)\n",
    "            return coords, value\n",
    "            pointer += 2\n",
    "        elif opcode == 5:\n",
    "            pointer = getv(mode2, 2) if getv(mode1, 1) else pointer + 3\n",
    "        elif opcode == 6:\n",
    "            pointer = getv(mode2, 2) if not getv(mode1, 1) else pointer + 3\n",
    "        elif opcode == 7:\n",
    "            setv(mode3, 1) if getv(mode1, 1) < getv(mode2, 2) else setv(mode3, 0)\n",
    "            pointer += 4\n",
    "        elif opcode == 8:\n",
    "            setv(mode3, 1) if getv(mode1, 1) == getv(mode2, 2) else setv(mode3, 0)\n",
    "            pointer += 4\n",
    "        elif opcode == 9:\n",
    "            relative_base += getv(mode1, 1)\n",
    "            pointer += 2\n",
    "        opcode, mode1, mode2, mode3 = read()\n",
    "    return 0"
   ]
  },
  {
   "cell_type": "code",
   "execution_count": 3,
   "metadata": {},
   "outputs": [],
   "source": [
    "from datetime import datetime\n",
    "from multiprocessing import cpu_count\n",
    "from multiprocessing.pool import Pool\n",
    "\n",
    "def func(inputs):\n",
    "    return compute_intcode(intcode, inputs)"
   ]
  },
  {
   "cell_type": "code",
   "execution_count": 4,
   "metadata": {},
   "outputs": [
    {
     "name": "stdout",
     "output_type": "stream",
     "text": [
      "Time elapsed: 0.729789\n"
     ]
    },
    {
     "data": {
      "text/plain": [
       "112"
      ]
     },
     "execution_count": 4,
     "metadata": {},
     "output_type": "execute_result"
    }
   ],
   "source": [
    "size = 50\n",
    "start = datetime.now()\n",
    "with Pool(cpu_count()) as pool:\n",
    "    data = pool.map(func, ((x, y) for y in range(size) for x in range(size)))\n",
    "result = sum(value for key, value in data)\n",
    "print(\"Time elapsed:\", (datetime.now() - start).total_seconds())\n",
    "result"
   ]
  },
  {
   "cell_type": "code",
   "execution_count": 5,
   "metadata": {},
   "outputs": [
    {
     "name": "stdout",
     "output_type": "stream",
     "text": [
      "Time elapsed: 19.525673\n",
      "Time elapsed: 0.031894\n"
     ]
    },
    {
     "data": {
      "text/plain": [
       "((1826, 1982), 18261982)"
      ]
     },
     "execution_count": 5,
     "metadata": {},
     "output_type": "execute_result"
    }
   ],
   "source": [
    "shift, size, check = 1800, 2100, 99\n",
    "start = datetime.now()\n",
    "with Pool(cpu_count()) as pool:\n",
    "    data = pool.map(func, ((x, y) for y in range(shift, size) for x in range(shift, size)))\n",
    "data = {k: v for k, v in data}\n",
    "print(\"Time elapsed:\", (datetime.now() - start).total_seconds())\n",
    "\n",
    "start = datetime.now()\n",
    "result = None\n",
    "for y in range(shift, size - check):\n",
    "    for x in range(shift, size - check):\n",
    "        if not data.get((x, y)):\n",
    "            continue\n",
    "        value = True\n",
    "        for (sx, sy) in ((0, 0), (0, check), (check, 0), (check, check)):\n",
    "            value &= bool(data.get((x + sx, y + sy), 0))\n",
    "        if value:\n",
    "            result = x * 10000 + y\n",
    "            break\n",
    "    if result:\n",
    "        break\n",
    "print(\"Time elapsed:\", (datetime.now() - start).total_seconds())\n",
    "(x, y), result"
   ]
  }
 ],
 "metadata": {
  "kernelspec": {
   "display_name": "Python 3",
   "language": "python",
   "name": "python3"
  },
  "language_info": {
   "codemirror_mode": {
    "name": "ipython",
    "version": 3
   },
   "file_extension": ".py",
   "mimetype": "text/x-python",
   "name": "python",
   "nbconvert_exporter": "python",
   "pygments_lexer": "ipython3",
   "version": "3.7.5"
  }
 },
 "nbformat": 4,
 "nbformat_minor": 2
}
