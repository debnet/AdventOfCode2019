{
 "cells": [
  {
   "cell_type": "code",
   "execution_count": 1,
   "metadata": {},
   "outputs": [],
   "source": [
    "class Moon:\n",
    "    \n",
    "    def __init__(self, name, x, y, z, vx=0, vy=0, vz=0):\n",
    "        self.name = name\n",
    "        self.x, self.y, self.z = x, y, z\n",
    "        self.vx, self.vy, self.vz = vz, vy, vz\n",
    "    \n",
    "    def velocity(self, moon):\n",
    "        self.vx += -1 if self.x > moon.x else 1 if self.x < moon.x else 0\n",
    "        self.vy += -1 if self.y > moon.y else 1 if self.y < moon.y else 0\n",
    "        self.vz += -1 if self.z > moon.z else 1 if self.z < moon.z else 0\n",
    "    \n",
    "    def apply(self):\n",
    "        self.x += self.vx\n",
    "        self.y += self.vy\n",
    "        self.z += self.vz\n",
    "    \n",
    "    def __eq__(self, moon):\n",
    "        return self.name == moon.name\n",
    "    \n",
    "    def __str__(self):\n",
    "        return (f\"[{self.name:<8}] x={self.x:>3}, y={self.y:>3}, z={self.z:>3} | \"\n",
    "                f\"vx={self.vx:>3}, vy={self.vy:>3}, vz={self.vz:>3} | energy={self.energy:>3}\")\n",
    "    \n",
    "    @property\n",
    "    def energy(self):\n",
    "        return (\n",
    "            sum((abs(self.x), abs(self.y), abs(self.z))) *\n",
    "            sum((abs(self.vx), abs(self.vy), abs(self.vz))))\n",
    "    \n",
    "    @property\n",
    "    def data(self):\n",
    "        return dict(\n",
    "            name=self.name, x=self.x, y=self.y, z=self.z, \n",
    "            vx=self.vx, vy=self.vy, vz=self.vz)\n",
    "    \n",
    "\n",
    "class System:\n",
    "    \n",
    "    def __init__(self, *moons, step=0):\n",
    "        self.moons = moons\n",
    "        self.step = step\n",
    "        \n",
    "    def cycle(self, until=None):\n",
    "        until = until if until else self.step + 1\n",
    "        while self.step < until:\n",
    "            self.step += 1  \n",
    "            for moon in self.moons:\n",
    "                for other in self.moons:\n",
    "                    if moon == other:\n",
    "                        continue\n",
    "                    moon.velocity(other)\n",
    "            for moon in self.moons:\n",
    "                moon.apply()\n",
    "        return self\n",
    "    \n",
    "    def __str__(self):\n",
    "        return '\\n'.join([\n",
    "            f\"Step: {self.step:>04}\",\n",
    "            '\\n'.join(str(moon) for moon in self.moons),\n",
    "            f\"Total energy: {self.energy:>04}\"])\n",
    "\n",
    "    def __repr__(self):\n",
    "        return str(self)\n",
    "    \n",
    "    @property\n",
    "    def energy(self):\n",
    "        return sum(moon.energy for moon in self.moons)\n",
    "    \n",
    "    @property\n",
    "    def values(self):\n",
    "        return {coord: tuple(\n",
    "            (getattr(moon, coord), getattr(moon, f'v{coord}')) for moon in self.moons\n",
    "        ) for coord in ('x', 'y', 'z')}\n",
    "    \n",
    "    @property\n",
    "    def copy(self):\n",
    "        return System(*(Moon(**moon.data) for moon in self.moons), step=self.step)"
   ]
  },
  {
   "cell_type": "code",
   "execution_count": 2,
   "metadata": {},
   "outputs": [],
   "source": [
    "system = System(\n",
    "    Moon(name=\"Io\", x=4, y=12, z=13),\n",
    "    Moon(name=\"Europe\", x=-9, y=14, z=-3),\n",
    "    Moon(name=\"Ganymede\", x=-7, y=-1, z=2),\n",
    "    Moon(name=\"Callisto\", x=-11, y=17, z=-1),\n",
    ")"
   ]
  },
  {
   "cell_type": "code",
   "execution_count": 3,
   "metadata": {},
   "outputs": [
    {
     "data": {
      "text/plain": [
       "Step: 1000\n",
       "[Io      ] x=  1, y=-47, z=-40 | vx= -1, vy=-17, vz= 12 | energy=2640\n",
       "[Europe  ] x=-86, y= 65, z= 34 | vx=  0, vy=  2, vz= -5 | energy=1295\n",
       "[Ganymede] x=  7, y= -5, z=  3 | vx= -8, vy= 15, vz= -6 | energy=435\n",
       "[Callisto] x= 55, y= 29, z= 14 | vx=  9, vy=  0, vz= -1 | energy=980\n",
       "Total energy: 5350"
      ]
     },
     "execution_count": 3,
     "metadata": {},
     "output_type": "execute_result"
    }
   ],
   "source": [
    "system.copy.cycle(1000)"
   ]
  },
  {
   "cell_type": "code",
   "execution_count": 4,
   "metadata": {},
   "outputs": [],
   "source": [
    "from functools import reduce\n",
    "from math import gcd\n",
    "\n",
    "def lcms(*numbers):\n",
    "    def lcm(a, b):\n",
    "        return abs(a * b) // gcd(a, b)\n",
    "    return reduce(lcm, numbers)"
   ]
  },
  {
   "cell_type": "code",
   "execution_count": 5,
   "metadata": {},
   "outputs": [],
   "source": [
    "def find_cycle(system):\n",
    "    loop = 0\n",
    "    history = dict(x=set(), y=set(), z=set())\n",
    "    loops = dict(x=0, y=0, z=0)\n",
    "    while not all(loops.values()):\n",
    "        system.cycle()\n",
    "        for coord, value in system.values.items():\n",
    "            if loops[coord]:\n",
    "                continue\n",
    "            if value in history[coord]:\n",
    "                loops[coord] = loop\n",
    "            history[coord].add(value)\n",
    "        loop += 1\n",
    "    return lcms(*loops.values())"
   ]
  },
  {
   "cell_type": "code",
   "execution_count": 6,
   "metadata": {},
   "outputs": [
    {
     "data": {
      "text/plain": [
       "467034091553512"
      ]
     },
     "execution_count": 6,
     "metadata": {},
     "output_type": "execute_result"
    }
   ],
   "source": [
    "find_cycle(system.copy)"
   ]
  }
 ],
 "metadata": {
  "kernelspec": {
   "display_name": "Python 3",
   "language": "python",
   "name": "python3"
  },
  "language_info": {
   "codemirror_mode": {
    "name": "ipython",
    "version": 3
   },
   "file_extension": ".py",
   "mimetype": "text/x-python",
   "name": "python",
   "nbconvert_exporter": "python",
   "pygments_lexer": "ipython3",
   "version": "3.7.5"
  }
 },
 "nbformat": 4,
 "nbformat_minor": 2
}
