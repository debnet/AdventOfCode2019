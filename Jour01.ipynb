{
 "cells": [
  {
   "cell_type": "code",
   "execution_count": 1,
   "metadata": {},
   "outputs": [],
   "source": [
    "masses = [108546, 76196, 144412, 100530, 143908, 79763, 109927, 53656, 82633, 103781, 97202, 81600, 115278, 90095, 85533, 58230, 142490, 65176, 132915, 82319, 148743, 91444, 145760, 78002, 127484, 67225, 74721, 145620, 146254, 135544, 74198, 88015, 53595, 142036, 113928, 65217, 56126, 110117, 57729, 99052, 89262, 141540, 70472, 145271, 81548, 68065, 93431, 125210, 66454, 67709, 149409, 101787, 130111, 60569, 131869, 149702, 135564, 135094, 71358, 100169, 127644, 147741, 102918, 93503, 74752, 135883, 120158, 94570, 129517, 85602, 55921, 76746, 107055, 79320, 81991, 58982, 63009, 91360, 147253, 51139, 61871, 107140, 146767, 77441, 125533, 70317, 125271, 73189, 141359, 144549, 104812, 91315, 145163, 147202, 95111, 82628, 116839, 132358, 99704, 85305]"
   ]
  },
  {
   "cell_type": "code",
   "execution_count": 2,
   "metadata": {},
   "outputs": [],
   "source": [
    "def count_fuel(mass, with_fuel=False):\n",
    "    fuel  = (mass // 3) - 2\n",
    "    if fuel < 0:\n",
    "        return 0\n",
    "    if with_fuel:\n",
    "        return fuel + count_fuel(fuel, with_fuel=with_fuel)\n",
    "    return fuel"
   ]
  },
  {
   "cell_type": "code",
   "execution_count": 3,
   "metadata": {},
   "outputs": [
    {
     "data": {
      "text/plain": [
       "3395944"
      ]
     },
     "execution_count": 3,
     "metadata": {},
     "output_type": "execute_result"
    }
   ],
   "source": [
    "fuel = sum([count_fuel(mass) for mass in masses])\n",
    "fuel"
   ]
  },
  {
   "cell_type": "code",
   "execution_count": 4,
   "metadata": {},
   "outputs": [
    {
     "data": {
      "text/plain": [
       "5091036"
      ]
     },
     "execution_count": 4,
     "metadata": {},
     "output_type": "execute_result"
    }
   ],
   "source": [
    "fuel = sum([count_fuel(mass, with_fuel=True) for mass in masses])\n",
    "fuel"
   ]
  }
 ],
 "metadata": {
  "kernelspec": {
   "display_name": "Python 3",
   "language": "python",
   "name": "python3"
  },
  "language_info": {
   "codemirror_mode": {
    "name": "ipython",
    "version": 3
   },
   "file_extension": ".py",
   "mimetype": "text/x-python",
   "name": "python",
   "nbconvert_exporter": "python",
   "pygments_lexer": "ipython3",
   "version": "3.7.5"
  }
 },
 "nbformat": 4,
 "nbformat_minor": 2
}
