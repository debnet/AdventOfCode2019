{
 "cells": [
  {
   "cell_type": "code",
   "execution_count": 1,
   "metadata": {},
   "outputs": [],
   "source": [
    "data = '59717238168580010599012527510943149347930742822899638247083005855483867484356055489419913512721095561655265107745972739464268846374728393507509840854109803718802780543298141398644955506149914796775885246602123746866223528356493012136152974218720542297275145465188153752865061822191530129420866198952553101979463026278788735726652297857883278524565751999458902550203666358043355816162788135488915722989560163456057551268306318085020948544474108340969874943659788076333934419729831896081431886621996610143785624166789772013707177940150230042563041915624525900826097730790562543352690091653041839771125119162154625459654861922989186784414455453132011498'"
   ]
  },
  {
   "cell_type": "code",
   "execution_count": 2,
   "metadata": {},
   "outputs": [],
   "source": [
    "from functools import reduce\n",
    "from itertools import cycle\n",
    "\n",
    "def process(data, steps=1):\n",
    "    \n",
    "    def repeat_pattern(p, n):\n",
    "        return reduce(lambda a, b: a + b, map(lambda x: [x] * n, p))\n",
    "    \n",
    "    for step in range(steps):\n",
    "        result = []\n",
    "        base_cycle = [0, 1, 0, -1]\n",
    "        for n, digit in enumerate(data, start=1):\n",
    "            pattern = cycle(repeat_pattern(base_cycle, n))\n",
    "            next(pattern)\n",
    "            result.append(abs(sum(d * next(pattern) for d in data)) % 10)\n",
    "        data = result\n",
    "    return data"
   ]
  },
  {
   "cell_type": "code",
   "execution_count": 3,
   "metadata": {},
   "outputs": [
    {
     "name": "stdout",
     "output_type": "stream",
     "text": [
      "58672132\n"
     ]
    }
   ],
   "source": [
    "print(''.join(map(str, process(list(map(int, data)), steps=100)))[:8])"
   ]
  },
  {
   "cell_type": "code",
   "execution_count": 4,
   "metadata": {},
   "outputs": [],
   "source": [
    "def process_large(data, size=1, steps=1):\n",
    "    skip = int(''.join(map(str, data[:7])))\n",
    "    data = (data * size)[skip:]\n",
    "    length = len(data)\n",
    "    \n",
    "    for step in range(steps):\n",
    "        for i in range(length - 2, -1, -1):\n",
    "            data[i] += data[i + 1]\n",
    "            data[i] %= 10\n",
    "    return data"
   ]
  },
  {
   "cell_type": "code",
   "execution_count": 5,
   "metadata": {},
   "outputs": [
    {
     "name": "stdout",
     "output_type": "stream",
     "text": [
      "91689380\n"
     ]
    }
   ],
   "source": [
    "print(''.join(map(str, process_large(list(map(int, data)), size=10000, steps=100)))[:8])"
   ]
  }
 ],
 "metadata": {
  "kernelspec": {
   "display_name": "Python 3",
   "language": "python",
   "name": "python3"
  },
  "language_info": {
   "codemirror_mode": {
    "name": "ipython",
    "version": 3
   },
   "file_extension": ".py",
   "mimetype": "text/x-python",
   "name": "python",
   "nbconvert_exporter": "python",
   "pygments_lexer": "ipython3",
   "version": "3.7.5"
  }
 },
 "nbformat": 4,
 "nbformat_minor": 2
}
